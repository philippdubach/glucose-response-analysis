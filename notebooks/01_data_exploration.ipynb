# Cell 1: Setup and imports
import sys
from pathlib import Path
sys.path.append(str(Path.cwd().parent / 'src'))

import pandas as pd
import numpy as np
import matplotlib.pyplot as plt
import seaborn as sns

from src.utils.logging import setup_logging, get_logger
from src.utils.config import config
from src.data.data_loader import HallDataLoader
from src.data.data_preprocessor import HallDataPreprocessor

setup_logging()
logger = get_logger(__name__)

# Cell 2: Load and explore data
loader = HallDataLoader()
df_hall, df_meals = loader.load_all_data()

print("Hall Dataset Shape:", df_hall.shape)
print("\nHall Dataset Columns:", df_hall.columns.tolist())
print("\nMeals Dataset Shape:", df_meals.shape)
print("\nMeals Dataset Columns:", df_meals.columns.tolist())

# Cell 3: Data quality analysis
print("Missing values in Hall dataset:")
print(df_hall.isnull().sum())

print("\nUnique subject types:")
print(df_hall['type'].value_counts())

print("\nGlucose value statistics:")
print(df_meals['GlucoseValue'].describe())

# Cell 4: Visualize glucose distributions
fig, axes = plt.subplots(1, 2, figsize=(12, 5))

# Glucose distribution
axes[0].hist(df_meals['GlucoseValue'], bins=50, alpha=0.7)
axes[0].set_xlabel('Glucose Value (mg/dL)')
axes[0].set_ylabel('Frequency')
axes[0].set_title('Distribution of Glucose Values')

# Glucose by meal type
meal_types = df_meals['Meal'].value_counts().head(10)
axes[1].bar(range(len(meal_types)), meal_types.values)
axes[1].set_xticks(range(len(meal_types)))
axes[1].set_xticklabels(meal_types.index, rotation=45)
axes[1].set_ylabel('Count')
axes[1].set_title('Meal Type Distribution')

plt.tight_layout()
plt.show()

# Cell 5: Preprocess data
preprocessor = HallDataPreprocessor()
df_meals_processed = preprocessor.preprocess_all(df_hall, df_meals)

print(f"Data after preprocessing: {df_meals_processed.shape}")
print(f"Number of meals marked: {df_meals_processed['meal_taken'].sum()}")