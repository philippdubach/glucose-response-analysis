# Cell 1: Setup
import sys
from pathlib import Path
sys.path.append(str(Path.cwd().parent / 'src'))

import pandas as pd
import numpy as np
import matplotlib.pyplot as plt

from src.models.glucose_response_analyzer import GlucoseResponseAnalyzer
from src.visualization.plotting import GlucosePlotter

# Load preprocessed data (assuming from previous notebook)
# df_meals_processed = pd.read_csv('../results/processed_meals_data.csv')

# Cell 2: Initialize analyzer and fit curves
analyzer = GlucoseResponseAnalyzer()
plotter = GlucosePlotter()

# Fit all meals
df_fitted_params = analyzer.fit_all_meals(df_meals_processed)

print(f"Successfully fitted {len(df_fitted_params)} meals")
print("\nFitted parameters summary:")
print(df_fitted_params[['A', 'delta', 'sigma', 'baseline']].describe())

# Cell 3: Visualize parameter distributions
plotter.plot_parameter_distributions(df_fitted_params)

# Cell 4: Quality assessment
print("R-squared distribution:")
print(df_fitted_params['r_squared'].describe())

# Plot R-squared distribution
plt.figure(figsize=(10, 6))
plt.hist(df_fitted_params['r_squared'], bins=30, alpha=0.7)
plt.xlabel('R-squared')
plt.ylabel('Frequency')
plt.title('Distribution of Curve Fitting Quality (R-squared)')
plt.axvline(df_fitted_params['r_squared'].mean(), color='red', linestyle='--', 
           label=f'Mean: {df_fitted_params["r_squared"].mean():.3f}')
plt.legend()
plt.show()

# Cell 5: Example curve fits
# Show a few example curve fits
meal_indices = df_meals_processed[df_meals_processed['meal_taken'] == 1].index[:5]

for i, meal_idx in enumerate(meal_indices):
    result = analyzer.fit_single_meal(df_meals_processed, meal_idx)
    if result['success']:
        plotter.plot_glucose_curve_fit(result, i+1)
        plt.show()